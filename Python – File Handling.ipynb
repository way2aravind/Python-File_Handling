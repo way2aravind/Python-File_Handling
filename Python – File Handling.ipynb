{
 "cells": [
  {
   "cell_type": "code",
   "execution_count": 18,
   "id": "0b58a0e8",
   "metadata": {},
   "outputs": [],
   "source": [
    "# Open a file in read mode\n",
    "\n",
    "file = open(\"example.txt\", \"r\")"
   ]
  },
  {
   "cell_type": "code",
   "execution_count": 19,
   "id": "0229eda9",
   "metadata": {},
   "outputs": [
    {
     "name": "stdout",
     "output_type": "stream",
     "text": [
      "Hello\n",
      "This is a test file\n",
      "\n"
     ]
    }
   ],
   "source": [
    "# Reading the entire file content\n",
    "\n",
    "with open(\"example.txt\", \"r\") as file:\n",
    "    content = file.read()\n",
    "    print(content)"
   ]
  },
  {
   "cell_type": "code",
   "execution_count": 20,
   "id": "87445830",
   "metadata": {},
   "outputs": [
    {
     "name": "stdout",
     "output_type": "stream",
     "text": [
      "Hello\n",
      "This is a test file\n"
     ]
    }
   ],
   "source": [
    "# Reading line by line\n",
    "\n",
    "with open(\"example.txt\", \"r\") as file:\n",
    "    for line in file:\n",
    "        print(line.strip())"
   ]
  },
  {
   "cell_type": "code",
   "execution_count": 21,
   "id": "87e80b7c",
   "metadata": {},
   "outputs": [],
   "source": [
    "# Writing to a file (overwrites if file exists)\n",
    "\n",
    "with open(\"example.txt\", \"w\") as file:\n",
    "    file.write(\"This is a new line.\\n\")"
   ]
  },
  {
   "cell_type": "code",
   "execution_count": 22,
   "id": "4d2c294b",
   "metadata": {},
   "outputs": [],
   "source": [
    "# Appending to a file\n",
    "\n",
    "with open(\"example.txt\", \"a\") as file:\n",
    "    file.write(\"This is an appended line.\\n\")"
   ]
  },
  {
   "cell_type": "code",
   "execution_count": 23,
   "id": "af0beecc",
   "metadata": {},
   "outputs": [
    {
     "name": "stdout",
     "output_type": "stream",
     "text": [
      "This is a new line.\n",
      "This is an appended line.\n",
      "\n"
     ]
    }
   ],
   "source": [
    "# Safely opening a file with 'with'\n",
    "\n",
    "with open(\"example.txt\", \"r\") as file:\n",
    "    content = file.read()\n",
    "    print(content)"
   ]
  },
  {
   "cell_type": "code",
   "execution_count": 24,
   "id": "e9cdf3df",
   "metadata": {},
   "outputs": [
    {
     "name": "stdout",
     "output_type": "stream",
     "text": [
      "The file does not exist.\n"
     ]
    }
   ],
   "source": [
    "# Exception handling in file operations\n",
    "\n",
    "try:\n",
    "    with open(\"non_existent_file.txt\", \"r\") as file:\n",
    "        content = file.read()\n",
    "except FileNotFoundError:\n",
    "    print(\"The file does not exist.\")"
   ]
  },
  {
   "cell_type": "code",
   "execution_count": 25,
   "id": "19e00543",
   "metadata": {},
   "outputs": [],
   "source": [
    "# Create a new file and write to it (write mode)\n",
    "\n",
    "file = open(\"newExample.txt\", \"w\")  # 'w' mode to create the file if it doesn't exist and write to it\n",
    "file.write(\"This is the first line of text.\\n\")\n",
    "file.write(\"This is the second line of text.\\n\")\n",
    "file.close()  # Always close the file after writing"
   ]
  },
  {
   "cell_type": "code",
   "execution_count": 26,
   "id": "39a80d05",
   "metadata": {},
   "outputs": [
    {
     "name": "stdout",
     "output_type": "stream",
     "text": [
      "Reading the file contents:\n",
      "This is the first line of text.\n",
      "This is the second line of text.\n",
      "\n"
     ]
    }
   ],
   "source": [
    "# Read the content of the file (read mode)\n",
    "file = open(\"newExample.txt\", \"r\")  # 'r' mode to read the file\n",
    "print(\"Reading the file contents:\")\n",
    "print(file.read())  # Reads and prints the content of the file\n",
    "file.close()  # Close the file"
   ]
  },
  {
   "cell_type": "code",
   "execution_count": 27,
   "id": "206cfd3e",
   "metadata": {},
   "outputs": [],
   "source": [
    "# Append more text to the file (append mode)\n",
    "file = open(\"newExample.txt\", \"a\")  # 'a' mode to append to the file without overwriting\n",
    "file.write(\"This is a new line appended to the file.\\n\")\n",
    "file.close()  # Close the file after appending"
   ]
  },
  {
   "cell_type": "code",
   "execution_count": 28,
   "id": "f46d6650",
   "metadata": {},
   "outputs": [
    {
     "name": "stdout",
     "output_type": "stream",
     "text": [
      "\n",
      "Reading after appending:\n",
      "This is the first line of text.\n",
      "This is the second line of text.\n",
      "This is a new line appended to the file.\n",
      "\n"
     ]
    }
   ],
   "source": [
    "# Read the content again after appending\n",
    "file = open(\"newExample.txt\", \"r\")  # Open the file in read mode\n",
    "print(\"\\nReading after appending:\")\n",
    "print(file.read())  # Print the updated content\n",
    "file.close()  # Close the file"
   ]
  },
  {
   "cell_type": "code",
   "execution_count": 29,
   "id": "35dfb1c2",
   "metadata": {},
   "outputs": [
    {
     "name": "stdout",
     "output_type": "stream",
     "text": [
      "\n",
      "Using 'with' statement to read the file:\n",
      "This is the first line of text.\n",
      "This is the second line of text.\n",
      "This is a new line appended to the file.\n",
      "\n"
     ]
    }
   ],
   "source": [
    "# Use 'with' statement (which automatically closes the file)\n",
    "with open(\"newExample.txt\", \"r\") as file:\n",
    "    print(\"\\nUsing 'with' statement to read the file:\")\n",
    "    print(file.read())  # File is automatically closed after 'with' block"
   ]
  },
  {
   "cell_type": "code",
   "execution_count": null,
   "id": "1f2813ce",
   "metadata": {},
   "outputs": [],
   "source": []
  }
 ],
 "metadata": {
  "kernelspec": {
   "display_name": "Python 3 (ipykernel)",
   "language": "python",
   "name": "python3"
  },
  "language_info": {
   "codemirror_mode": {
    "name": "ipython",
    "version": 3
   },
   "file_extension": ".py",
   "mimetype": "text/x-python",
   "name": "python",
   "nbconvert_exporter": "python",
   "pygments_lexer": "ipython3",
   "version": "3.11.5"
  }
 },
 "nbformat": 4,
 "nbformat_minor": 5
}
